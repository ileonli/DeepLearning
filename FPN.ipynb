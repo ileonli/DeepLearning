{
 "cells": [
  {
   "metadata": {},
   "cell_type": "markdown",
   "source": [
    "# FPN\n",
    "\n",
    "论文链接：[Feature Pyramid Networks for Object Detection](https://openaccess.thecvf.com/content_cvpr_2017/papers/Lin_Feature_Pyramid_Networks_CVPR_2017_paper.pdf)\n",
    "\n",
    "---\n",
    "\n",
    "小尺寸的卷积核得到的特征图（feature maps）分辨率较高，大尺寸得到的较低。\n",
    "\n",
    "低分辨率特征图捕获了更多的图像全局信息，表达了更丰富的语义；而高分辨率特征图更关注局部信息，提供了更准确的空间信息\n",
    "\n",
    "FPN 的目标是将高分辨率和低分辨率特征图结合起来，增强特征空间信息的准确性和丰富的语义。\n",
    "\n",
    "---\n",
    "\n",
    "下图左边部分为 bottom-up pathway，通常使用骨干网络，如：ResNet。右边部分为 top-down pathway，用于融合不同尺度的特征图。\n",
    "\n",
    "左边和右边使用 1*1 卷积连接（lateral connections），卷积作用为将左边特征图的维度调整到与右边一致。\n",
    "\n",
    "右边特征图使用 Upsampling 调整到和左边特征图对应的分辨率。\n",
    "\n",
    "通过 element-wise addition 将左右特征图进行相加。\n",
    "\n",
    "![](img/FPN/FPN-architecture.png)\n"
   ],
   "id": "8a624d3e670b15e2"
  },
  {
   "metadata": {
    "ExecuteTime": {
     "end_time": "2024-07-28T13:40:01.774526Z",
     "start_time": "2024-07-28T13:40:01.771699Z"
    }
   },
   "cell_type": "code",
   "source": [
    "import torch\n",
    "import torch.nn as nn\n",
    "import torch.nn.functional as F"
   ],
   "id": "1426ea51bc263dea",
   "outputs": [],
   "execution_count": 342
  },
  {
   "metadata": {
    "ExecuteTime": {
     "end_time": "2024-07-28T13:40:01.804642Z",
     "start_time": "2024-07-28T13:40:01.799062Z"
    }
   },
   "cell_type": "code",
   "source": [
    "class FPN(nn.Module):\n",
    "    def __init__(self):\n",
    "        super().__init__()\n",
    "        # Bottom-up layers\n",
    "        self.bottomlayer1 = nn.Conv2d(3, 64, kernel_size=3, stride=2, padding=1)\n",
    "        self.bottomlayer2 = nn.Conv2d(64, 128, kernel_size=3, stride=2, padding=1)\n",
    "        self.bottomlayer3 = nn.Conv2d(128, 256, kernel_size=3, stride=2, padding=1)\n",
    "\n",
    "        # Lateral layers\n",
    "        self.latlayer1 = nn.Conv2d(256, 32, kernel_size=1, stride=1, padding=0)\n",
    "        self.latlayer2 = nn.Conv2d(128, 32, kernel_size=1, stride=1, padding=0)\n",
    "        self.latlayer3 = nn.Conv2d(64, 32, kernel_size=1, stride=1, padding=0)\n",
    "\n",
    "        # Top-down layers\n",
    "        self.toplayer1 = nn.Conv2d(256, 32, kernel_size=3, stride=1, padding=1)\n",
    "        self.toplayer2 = nn.Conv2d(32, 32, kernel_size=3, stride=1, padding=1)\n",
    "        self.toplayer3 = nn.Conv2d(32, 32, kernel_size=3, stride=1, padding=1)\n",
    "\n",
    "    def forward(self, x):\n",
    "        # Bottom-up\n",
    "        c1 = self.bottomlayer1(x)   # 1/2\n",
    "        c2 = self.bottomlayer2(c1)  # 1/4\n",
    "        c3 = self.bottomlayer3(c2)  # 1/8\n",
    "\n",
    "        # Lateral connections\n",
    "        lat1 = self.latlayer1(c3)  # ignore\n",
    "        lat2 = self.latlayer2(c2)\n",
    "        lat3 = self.latlayer3(c1)\n",
    "\n",
    "        # Top-down\n",
    "        p1 = self.toplayer1(c3)\n",
    "\n",
    "        p2 = F.interpolate(p1, scale_factor=2, mode='nearest') + lat2\n",
    "        p2 = self.toplayer2(p2)\n",
    "\n",
    "        p3 = F.interpolate(p2, scale_factor=2, mode='nearest') + lat3\n",
    "        p3 = self.toplayer3(p3)\n",
    "\n",
    "        return p1, p2, p3"
   ],
   "id": "220efcb013537b74",
   "outputs": [],
   "execution_count": 343
  },
  {
   "metadata": {
    "ExecuteTime": {
     "end_time": "2024-07-28T13:40:01.840960Z",
     "start_time": "2024-07-28T13:40:01.809826Z"
    }
   },
   "cell_type": "code",
   "source": [
    "x = torch.randn(1, 3, 256, 256)\n",
    "\n",
    "model = FPN()\n",
    "p1, p2, p3 = model(x)\n",
    "\n",
    "print(p1.shape, p2.shape, p3.shape, sep='\\n')"
   ],
   "id": "9bf9058f21bb27c6",
   "outputs": [
    {
     "name": "stdout",
     "output_type": "stream",
     "text": [
      "torch.Size([1, 32, 32, 32])\n",
      "torch.Size([1, 32, 64, 64])\n",
      "torch.Size([1, 32, 128, 128])\n"
     ]
    }
   ],
   "execution_count": 344
  }
 ],
 "metadata": {
  "kernelspec": {
   "display_name": "Python 3",
   "language": "python",
   "name": "python3"
  },
  "language_info": {
   "codemirror_mode": {
    "name": "ipython",
    "version": 2
   },
   "file_extension": ".py",
   "mimetype": "text/x-python",
   "name": "python",
   "nbconvert_exporter": "python",
   "pygments_lexer": "ipython2",
   "version": "2.7.6"
  }
 },
 "nbformat": 4,
 "nbformat_minor": 5
}
